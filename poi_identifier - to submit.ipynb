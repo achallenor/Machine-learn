{
 "cells": [
  {
   "cell_type": "markdown",
   "metadata": {
    "collapsed": true
   },
   "source": [
    "Enron data project - Alex Challenor\n",
    "\n",
    "Project Overview\n",
    "\n",
    "In 2000, Enron was one of the largest companies in the United States. By 2002, it had collapsed into bankruptcy due to widespread corporate fraud. In the resulting Federal investigation, a significant amount of typically confidential information entered into the public record, including tens of thousands of emails and detailed financial data for top executives. \n",
    "\n",
    "In this project i will use the provided data to:\n",
    "\n",
    "- Select features to use\n",
    "- Make features\n",
    "- Find and deal with outliers\n",
    "- Test diffrent classifers\n",
    "- Tune classifer to find best paramebter\n",
    "\n",
    "From this my Clasifier and paramter could be used to go through the thausands of files to help find People of Intrest (POI).\n"
   ]
  },
  {
   "cell_type": "code",
   "execution_count": 2,
   "metadata": {
    "collapsed": false
   },
   "outputs": [
    {
     "name": "stderr",
     "output_type": "stream",
     "text": [
      "C:\\ProgramData\\Anaconda2\\lib\\site-packages\\sklearn\\cross_validation.py:44: DeprecationWarning: This module was deprecated in version 0.18 in favor of the model_selection module into which all the refactored classes and functions are moved. Also note that the interface of the new CV iterators are different from that of this module. This module will be removed in 0.20.\n",
      "  \"This module will be removed in 0.20.\", DeprecationWarning)\n",
      "C:\\ProgramData\\Anaconda2\\lib\\site-packages\\sklearn\\grid_search.py:43: DeprecationWarning: This module was deprecated in version 0.18 in favor of the model_selection module into which all the refactored classes and functions are moved. This module will be removed in 0.20.\n",
      "  DeprecationWarning)\n"
     ]
    }
   ],
   "source": [
    "# Import required modules\n",
    "import sys\n",
    "import pickle\n",
    "import pandas as pd\n",
    "import numpy as np\n",
    "from time import time\n",
    "sys.path.append(\"../tools/\")\n",
    "from feature_format import featureFormat, targetFeatureSplit\n",
    "from tester import test_classifier, dump_classifier_and_data\n",
    "from sklearn.feature_selection import SelectKBest,f_classif\n",
    "from sklearn.preprocessing import StandardScaler\n",
    "from sklearn.tree import DecisionTreeClassifier\n",
    "from sklearn.ensemble import RandomForestClassifier,ExtraTreesClassifier,AdaBoostClassifier\n",
    "from sklearn.neighbors import KNeighborsClassifier\n",
    "from sklearn.svm import SVC,LinearSVC\n",
    "from sklearn.pipeline import Pipeline\n",
    "from sklearn.grid_search import GridSearchCV\n",
    "from collections import OrderedDict\n",
    "import matplotlib.pyplot as plt\n",
    "import seaborn as sns\n",
    "%matplotlib inline"
   ]
  },
  {
   "cell_type": "code",
   "execution_count": 3,
   "metadata": {
    "collapsed": true
   },
   "outputs": [],
   "source": [
    "# Load the dictionary containing the dataset\n",
    "with open(\"final_project_dataset.pkl\", \"r\") as data_file:\n",
    "    data_dict = pickle.load(data_file)"
   ]
  },
  {
   "cell_type": "code",
   "execution_count": 4,
   "metadata": {
    "collapsed": true
   },
   "outputs": [],
   "source": [
    "# Load the dictionary into a dataframe and examine it\n",
    "dataset_df=pd.DataFrame.from_dict(data_dict,orient='index')"
   ]
  },
  {
   "cell_type": "code",
   "execution_count": 5,
   "metadata": {
    "collapsed": false,
    "scrolled": true
   },
   "outputs": [
    {
     "data": {
      "text/html": [
       "<div>\n",
       "<table border=\"1\" class=\"dataframe\">\n",
       "  <thead>\n",
       "    <tr style=\"text-align: right;\">\n",
       "      <th></th>\n",
       "      <th>salary</th>\n",
       "      <th>to_messages</th>\n",
       "      <th>deferral_payments</th>\n",
       "      <th>total_payments</th>\n",
       "      <th>exercised_stock_options</th>\n",
       "      <th>bonus</th>\n",
       "      <th>restricted_stock</th>\n",
       "      <th>shared_receipt_with_poi</th>\n",
       "      <th>restricted_stock_deferred</th>\n",
       "      <th>total_stock_value</th>\n",
       "      <th>...</th>\n",
       "      <th>loan_advances</th>\n",
       "      <th>from_messages</th>\n",
       "      <th>other</th>\n",
       "      <th>from_this_person_to_poi</th>\n",
       "      <th>poi</th>\n",
       "      <th>director_fees</th>\n",
       "      <th>deferred_income</th>\n",
       "      <th>long_term_incentive</th>\n",
       "      <th>email_address</th>\n",
       "      <th>from_poi_to_this_person</th>\n",
       "    </tr>\n",
       "  </thead>\n",
       "  <tbody>\n",
       "    <tr>\n",
       "      <th>ALLEN PHILLIP K</th>\n",
       "      <td>201955</td>\n",
       "      <td>2902</td>\n",
       "      <td>2869717</td>\n",
       "      <td>4484442</td>\n",
       "      <td>1729541</td>\n",
       "      <td>4175000</td>\n",
       "      <td>126027</td>\n",
       "      <td>1407</td>\n",
       "      <td>-126027</td>\n",
       "      <td>1729541</td>\n",
       "      <td>...</td>\n",
       "      <td>NaN</td>\n",
       "      <td>2195</td>\n",
       "      <td>152</td>\n",
       "      <td>65</td>\n",
       "      <td>False</td>\n",
       "      <td>NaN</td>\n",
       "      <td>-3081055</td>\n",
       "      <td>304805</td>\n",
       "      <td>phillip.allen@enron.com</td>\n",
       "      <td>47</td>\n",
       "    </tr>\n",
       "    <tr>\n",
       "      <th>BADUM JAMES P</th>\n",
       "      <td>NaN</td>\n",
       "      <td>NaN</td>\n",
       "      <td>178980</td>\n",
       "      <td>182466</td>\n",
       "      <td>257817</td>\n",
       "      <td>NaN</td>\n",
       "      <td>NaN</td>\n",
       "      <td>NaN</td>\n",
       "      <td>NaN</td>\n",
       "      <td>257817</td>\n",
       "      <td>...</td>\n",
       "      <td>NaN</td>\n",
       "      <td>NaN</td>\n",
       "      <td>NaN</td>\n",
       "      <td>NaN</td>\n",
       "      <td>False</td>\n",
       "      <td>NaN</td>\n",
       "      <td>NaN</td>\n",
       "      <td>NaN</td>\n",
       "      <td>NaN</td>\n",
       "      <td>NaN</td>\n",
       "    </tr>\n",
       "    <tr>\n",
       "      <th>BANNANTINE JAMES M</th>\n",
       "      <td>477</td>\n",
       "      <td>566</td>\n",
       "      <td>NaN</td>\n",
       "      <td>916197</td>\n",
       "      <td>4046157</td>\n",
       "      <td>NaN</td>\n",
       "      <td>1757552</td>\n",
       "      <td>465</td>\n",
       "      <td>-560222</td>\n",
       "      <td>5243487</td>\n",
       "      <td>...</td>\n",
       "      <td>NaN</td>\n",
       "      <td>29</td>\n",
       "      <td>864523</td>\n",
       "      <td>0</td>\n",
       "      <td>False</td>\n",
       "      <td>NaN</td>\n",
       "      <td>-5104</td>\n",
       "      <td>NaN</td>\n",
       "      <td>james.bannantine@enron.com</td>\n",
       "      <td>39</td>\n",
       "    </tr>\n",
       "    <tr>\n",
       "      <th>BAXTER JOHN C</th>\n",
       "      <td>267102</td>\n",
       "      <td>NaN</td>\n",
       "      <td>1295738</td>\n",
       "      <td>5634343</td>\n",
       "      <td>6680544</td>\n",
       "      <td>1200000</td>\n",
       "      <td>3942714</td>\n",
       "      <td>NaN</td>\n",
       "      <td>NaN</td>\n",
       "      <td>10623258</td>\n",
       "      <td>...</td>\n",
       "      <td>NaN</td>\n",
       "      <td>NaN</td>\n",
       "      <td>2660303</td>\n",
       "      <td>NaN</td>\n",
       "      <td>False</td>\n",
       "      <td>NaN</td>\n",
       "      <td>-1386055</td>\n",
       "      <td>1586055</td>\n",
       "      <td>NaN</td>\n",
       "      <td>NaN</td>\n",
       "    </tr>\n",
       "    <tr>\n",
       "      <th>BAY FRANKLIN R</th>\n",
       "      <td>239671</td>\n",
       "      <td>NaN</td>\n",
       "      <td>260455</td>\n",
       "      <td>827696</td>\n",
       "      <td>NaN</td>\n",
       "      <td>400000</td>\n",
       "      <td>145796</td>\n",
       "      <td>NaN</td>\n",
       "      <td>-82782</td>\n",
       "      <td>63014</td>\n",
       "      <td>...</td>\n",
       "      <td>NaN</td>\n",
       "      <td>NaN</td>\n",
       "      <td>69</td>\n",
       "      <td>NaN</td>\n",
       "      <td>False</td>\n",
       "      <td>NaN</td>\n",
       "      <td>-201641</td>\n",
       "      <td>NaN</td>\n",
       "      <td>frank.bay@enron.com</td>\n",
       "      <td>NaN</td>\n",
       "    </tr>\n",
       "  </tbody>\n",
       "</table>\n",
       "<p>5 rows × 21 columns</p>\n",
       "</div>"
      ],
      "text/plain": [
       "                    salary to_messages deferral_payments total_payments  \\\n",
       "ALLEN PHILLIP K     201955        2902           2869717        4484442   \n",
       "BADUM JAMES P          NaN         NaN            178980         182466   \n",
       "BANNANTINE JAMES M     477         566               NaN         916197   \n",
       "BAXTER JOHN C       267102         NaN           1295738        5634343   \n",
       "BAY FRANKLIN R      239671         NaN            260455         827696   \n",
       "\n",
       "                   exercised_stock_options    bonus restricted_stock  \\\n",
       "ALLEN PHILLIP K                    1729541  4175000           126027   \n",
       "BADUM JAMES P                       257817      NaN              NaN   \n",
       "BANNANTINE JAMES M                 4046157      NaN          1757552   \n",
       "BAXTER JOHN C                      6680544  1200000          3942714   \n",
       "BAY FRANKLIN R                         NaN   400000           145796   \n",
       "\n",
       "                   shared_receipt_with_poi restricted_stock_deferred  \\\n",
       "ALLEN PHILLIP K                       1407                   -126027   \n",
       "BADUM JAMES P                          NaN                       NaN   \n",
       "BANNANTINE JAMES M                     465                   -560222   \n",
       "BAXTER JOHN C                          NaN                       NaN   \n",
       "BAY FRANKLIN R                         NaN                    -82782   \n",
       "\n",
       "                   total_stock_value           ...           loan_advances  \\\n",
       "ALLEN PHILLIP K              1729541           ...                     NaN   \n",
       "BADUM JAMES P                 257817           ...                     NaN   \n",
       "BANNANTINE JAMES M           5243487           ...                     NaN   \n",
       "BAXTER JOHN C               10623258           ...                     NaN   \n",
       "BAY FRANKLIN R                 63014           ...                     NaN   \n",
       "\n",
       "                   from_messages    other from_this_person_to_poi    poi  \\\n",
       "ALLEN PHILLIP K             2195      152                      65  False   \n",
       "BADUM JAMES P                NaN      NaN                     NaN  False   \n",
       "BANNANTINE JAMES M            29   864523                       0  False   \n",
       "BAXTER JOHN C                NaN  2660303                     NaN  False   \n",
       "BAY FRANKLIN R               NaN       69                     NaN  False   \n",
       "\n",
       "                   director_fees deferred_income long_term_incentive  \\\n",
       "ALLEN PHILLIP K              NaN        -3081055              304805   \n",
       "BADUM JAMES P                NaN             NaN                 NaN   \n",
       "BANNANTINE JAMES M           NaN           -5104                 NaN   \n",
       "BAXTER JOHN C                NaN        -1386055             1586055   \n",
       "BAY FRANKLIN R               NaN         -201641                 NaN   \n",
       "\n",
       "                                 email_address from_poi_to_this_person  \n",
       "ALLEN PHILLIP K        phillip.allen@enron.com                      47  \n",
       "BADUM JAMES P                              NaN                     NaN  \n",
       "BANNANTINE JAMES M  james.bannantine@enron.com                      39  \n",
       "BAXTER JOHN C                              NaN                     NaN  \n",
       "BAY FRANKLIN R             frank.bay@enron.com                     NaN  \n",
       "\n",
       "[5 rows x 21 columns]"
      ]
     },
     "execution_count": 5,
     "metadata": {},
     "output_type": "execute_result"
    }
   ],
   "source": [
    "dataset_df.head()"
   ]
  },
  {
   "cell_type": "code",
   "execution_count": 6,
   "metadata": {
    "collapsed": true
   },
   "outputs": [],
   "source": [
    "# Replace 'NaN' string with Null (NaN)\n",
    "dataset_df.replace('NaN',np.nan,inplace=True)\n"
   ]
  },
  {
   "cell_type": "code",
   "execution_count": 7,
   "metadata": {
    "collapsed": true
   },
   "outputs": [],
   "source": [
    "# Dataset details\n",
    "num_employees=len(dataset_df)\n",
    "num_poi=len(dataset_df[dataset_df['poi']==True])\n",
    "num_non_poi=num_employees-num_poi\n",
    "num_vals=num_employees-dataset_df.isnull().sum()"
   ]
  },
  {
   "cell_type": "markdown",
   "metadata": {},
   "source": [
    "Visulise the current features and remove features with little data,"
   ]
  },
  {
   "cell_type": "code",
   "execution_count": 8,
   "metadata": {
    "collapsed": false
   },
   "outputs": [
    {
     "data": {
      "image/png": "[encoded data removed]",
      "text/plain": [
       "<matplotlib.figure.Figure at 0xc8942b0>"
      ]
     },
     "metadata": {},
     "output_type": "display_data"
    }
   ],
   "source": [
    "# Plot POI and feature count\n",
    "plt.figure(figsize=(12,6))\n",
    "plt.suptitle('Dataset Details',fontsize=14)\n",
    "# Left plot\n",
    "plt.subplot(1,2,1)\n",
    "plt.barh(range(len(num_vals.index)),num_vals,height=-0.8,color=['blue'])\n",
    "plt.yticks(range(len(num_vals.index)),num_vals.index)\n",
    "for i,v in enumerate(num_vals):\n",
    " plt.text(v+0.4,i-0.2,str(v),color='black')\n",
    " plt.title('Non-Null Values per Feature')\n",
    "plt.xlabel('Count of Values')\n",
    "# Right plot\n",
    "plt.subplot(1,2,2)\n",
    "plt.title('Employees\\nTotal '+str(num_employees))\n",
    "plt.pie([num_poi,num_non_poi],labels=['POI\\n'+str(num_poi),'Not POI\\n'+str(num_non_poi)],\n",
    " autopct='%.2f%%',colors=['blue','green'])\n",
    "plt.axis('equal')\n",
    "plt.show()\n"
   ]
  },
  {
   "cell_type": "code",
   "execution_count": 11,
   "metadata": {
    "collapsed": false
   },
   "outputs": [
    {
     "data": {
      "text/plain": [
       "['loan_advances']"
      ]
     },
     "execution_count": 11,
     "metadata": {},
     "output_type": "execute_result"
    }
   ],
   "source": [
    "# Which features have less than 10% data\n",
    "df=dataset_df.count()/len(dataset_df)<0.1\n",
    "list(df[df==True].index)"
   ]
  },
  {
   "cell_type": "code",
   "execution_count": 12,
   "metadata": {
    "collapsed": false
   },
   "outputs": [
    {
     "data": {
      "text/plain": [
       "['restricted_stock_deferred', 'director_fees']"
      ]
     },
     "execution_count": 12,
     "metadata": {},
     "output_type": "execute_result"
    }
   ],
   "source": [
    "# Which features have less than 10% data for POI\n",
    "df=dataset_df[dataset_df['poi']==True].count()/dataset_df.count()<0.1\n",
    "list(df[df==True].index)\n"
   ]
  },
  {
   "cell_type": "code",
   "execution_count": 13,
   "metadata": {
    "collapsed": false
   },
   "outputs": [
    {
     "name": "stdout",
     "output_type": "stream",
     "text": [
      "Number of initial features:  17\n"
     ]
    }
   ],
   "source": [
    "# Selected features\n",
    "POI_label=['poi'] # Boolean, represented as integer\n",
    "financial_features=['salary','deferral_payments','total_payments','bonus','deferred_income',\n",
    " 'total_stock_value','expenses','exercised_stock_options','other',\n",
    " 'long_term_incentive','restricted_stock'] # Units are in US dollars\n",
    "email_features=['to_messages','from_poi_to_this_person','from_messages',\n",
    " 'from_this_person_to_poi','shared_receipt_with_poi'] # Units are number of\n",
    "# We will ignore:\n",
    "# 'email_address' - not numerical data\n",
    "# 'restricted_stock_deferred' and 'director_fees' - less than 10% data for POI\n",
    "# 'loan_advances' - less than 10% data\n",
    "features_list=(POI_label+financial_features+email_features)\n",
    "print 'Number of initial features: ',len(features_list)"
   ]
  },
  {
   "cell_type": "markdown",
   "metadata": {
    "collapsed": true
   },
   "source": [
    "Email adress doesnt provide usefull feature so remove"
   ]
  },
  {
   "cell_type": "code",
   "execution_count": 15,
   "metadata": {
    "collapsed": false
   },
   "outputs": [],
   "source": [
    "#Drop email address since we are not using it in this analysis\n",
    "dataset_df.drop('email_address',axis=1,inplace=True)\n"
   ]
  },
  {
   "cell_type": "markdown",
   "metadata": {
    "collapsed": true
   },
   "source": [
    "Remove outliers\n",
    "\n",
    "Visuliase data to look for data with any obviouse outliers.\n",
    "Also manualy check data against the enron_insderpay.pdf to see if assumptions line up."
   ]
  },
  {
   "cell_type": "code",
   "execution_count": 17,
   "metadata": {
    "collapsed": false
   },
   "outputs": [
    {
     "data": {
      "image/png": "[encoded data removed]",
      "text/plain": [
       "<matplotlib.figure.Figure at 0xc871eb8>"
      ]
     },
     "metadata": {},
     "output_type": "display_data"
    }
   ],
   "source": [
    "# Visualise data to show any outliers\n",
    "dataset_df[features_list[1:]].hist(figsize=(12,12),bins=20);"
   ]
  },
  {
   "cell_type": "code",
   "execution_count": 18,
   "metadata": {
    "collapsed": false
   },
   "outputs": [
    {
     "data": {
      "image/png": "[encoded data removed]",
      "text/plain": [
       "<matplotlib.figure.Figure at 0xd24ea58>"
      ]
     },
     "metadata": {},
     "output_type": "display_data"
    }
   ],
   "source": [
    "#Plot of data with suspected outlier\n",
    "plt.figure(figsize=(12,4))\n",
    "plt.suptitle('Data Visualisation',fontsize=14)\n",
    "# Left plot\n",
    "plt.subplot(1,2,1)\n",
    "x1=dataset_df[dataset_df['poi'] == True]['salary']\n",
    "y1=dataset_df[dataset_df['poi'] == True]['bonus']\n",
    "x2=dataset_df[dataset_df['poi'] == False]['salary']\n",
    "y2=dataset_df[dataset_df['poi'] == False]['bonus']\n",
    "plt.scatter(x1,y1,color='blue',alpha=0.75)\n",
    "plt.scatter(x2,y2,color='green',alpha=0.75)\n",
    "plt.title('All data')\n",
    "plt.ylabel('Bonus')\n",
    "plt.xlabel('Salary')\n",
    "plt.legend(('POI','Not POI'))\n",
    "plt.grid()\n",
    "# Right plot\n",
    "plt.subplot(1,2,2)\n",
    "outlier=dataset_df['salary'].idxmax()\n",
    "df=dataset_df[dataset_df.index != outlier]\n",
    "x1=df[df['poi'] == True]['salary']\n",
    "y1=df[df['poi'] == True]['bonus']\n",
    "x2=df[df['poi'] == False]['salary']\n",
    "y2=df[df['poi'] == False]['bonus']\n",
    "plt.scatter(x1,y1,color='blue',alpha=0.75)\n",
    "plt.scatter(x2,y2,color='green',alpha=0.75)\n",
    "plt.title('Outlier Removed')\n",
    "plt.ylabel('Bonus')\n",
    "plt.xlabel('Salary')\n",
    "plt.subplots_adjust(wspace=0.4,top=0.8)\n",
    "plt.grid()\n",
    "plt.show()\n"
   ]
  },
  {
   "cell_type": "code",
   "execution_count": 19,
   "metadata": {
    "collapsed": false
   },
   "outputs": [
    {
     "name": "stdout",
     "output_type": "stream",
     "text": [
      "Outlier found in row: TOTAL\n"
     ]
    }
   ],
   "source": [
    "# Outlier\n",
    "print 'Outlier found in row:',outlier"
   ]
  },
  {
   "cell_type": "markdown",
   "metadata": {
    "collapsed": true
   },
   "source": [
    "looking at the pdf that comes along with the data \"the travel agency...\" is not a person so should be taken out of data\n",
    "Eugene Lockhart has no data against hime so i will take this out of the data\n",
    "From the outlier graphs i will reomve \"total\" as this a function of the spreadsheet and not usefull data"
   ]
  },
  {
   "cell_type": "code",
   "execution_count": 21,
   "metadata": {
    "collapsed": false
   },
   "outputs": [],
   "source": [
    "# Drop the following:\n",
    "# TOTAL - Spreadsheet aggregation included by mistake (outlier)\n",
    "# LOCKHART EUGENE E - Does not contain any numerical data\n",
    "# THE TRAVEL AGENCY IN THE PARK - Not an individual (Alliance Worldwide - co-owned by the s\n",
    "dataset_df.drop(['TOTAL','LOCKHART EUGENE E','THE TRAVEL AGENCY IN THE PARK'],axis=0,inplace=True)"
   ]
  },
  {
   "cell_type": "markdown",
   "metadata": {
    "collapsed": true
   },
   "source": [
    "Now i have investigated the data i will make some more features."
   ]
  },
  {
   "cell_type": "code",
   "execution_count": 23,
   "metadata": {
    "collapsed": true
   },
   "outputs": [],
   "source": [
    "# New financial features:\n",
    "dataset_df['fraction_bonus_salary']=dataset_df['bonus']/dataset_df['salary']\n",
    "dataset_df['fraction_bonus_total']=dataset_df['bonus']/dataset_df['total_payments']\n",
    "dataset_df['fraction_salary_total']=dataset_df['salary']/dataset_df['total_payments']\n",
    "dataset_df['fraction_stock_total']=dataset_df['total_stock_value']/dataset_df['total_payments']"
   ]
  },
  {
   "cell_type": "code",
   "execution_count": 24,
   "metadata": {
    "collapsed": true
   },
   "outputs": [],
   "source": [
    "# New email features:\n",
    "dataset_df['fraction_to_poi']=dataset_df['from_this_person_to_poi']/dataset_df['from_messages']\n",
    "dataset_df['fraction_from_poi']=dataset_df['from_poi_to_this_person']/dataset_df['to_messages']"
   ]
  },
  {
   "cell_type": "code",
   "execution_count": 25,
   "metadata": {
    "collapsed": false
   },
   "outputs": [
    {
     "name": "stdout",
     "output_type": "stream",
     "text": [
      "Number of extended features:  23\n"
     ]
    }
   ],
   "source": [
    "# Add new features to feature list\n",
    "new_features_list=['fraction_bonus_salary',\n",
    " 'fraction_bonus_total',\n",
    "'fraction_salary_total',\n",
    "'fraction_stock_total',\n",
    "'fraction_to_poi',\n",
    "'fraction_from_poi']\n",
    "extended_features_list=features_list+new_features_list\n",
    "print 'Number of extended features: ',len(extended_features_list)"
   ]
  },
  {
   "cell_type": "code",
   "execution_count": 26,
   "metadata": {
    "collapsed": true
   },
   "outputs": [],
   "source": [
    "# Cleaned and trimmed dataset\n",
    "num_employees=len(dataset_df[extended_features_list])\n",
    "num_poi=len(dataset_df[dataset_df['poi']==True])\n",
    "num_non_poi=num_employees-num_poi\n",
    "num_vals=num_employees-dataset_df[extended_features_list].isnull().sum()"
   ]
  },
  {
   "cell_type": "code",
   "execution_count": 27,
   "metadata": {
    "collapsed": false
   },
   "outputs": [
    {
     "data": {
      "image/png": "[encoded data removed]",
      "text/plain": [
       "<matplotlib.figure.Figure at 0xec39a58>"
      ]
     },
     "metadata": {},
     "output_type": "display_data"
    }
   ],
   "source": [
    "#Plot POI and feature count\n",
    "plt.figure(figsize=(12,8))\n",
    "#plt.subplot(1,2,1)\n",
    "plt.barh(range(len(num_vals.index)),num_vals,height=-0.8,color=['blue'])\n",
    "plt.yticks(range(len(num_vals.index)),num_vals.index)\n",
    "for i,v in enumerate(num_vals):\n",
    " plt.text(v+0.4,i-0.2,str(v),color='black')\n",
    " plt.title('Non-Null Values per Extended Feature Set')\n",
    "plt.xlabel('Count of Values')\n",
    "plt.show()\n"
   ]
  },
  {
   "cell_type": "code",
   "execution_count": 28,
   "metadata": {
    "collapsed": true
   },
   "outputs": [],
   "source": [
    "# Replace Null (NaN) entries with 0.0 to prevent errors in algorithms\n",
    "dataset_df.fillna(value=0.0,inplace=True)"
   ]
  },
  {
   "cell_type": "code",
   "execution_count": 29,
   "metadata": {
    "collapsed": false
   },
   "outputs": [
    {
     "name": "stdout",
     "output_type": "stream",
     "text": [
      "<class 'pandas.core.frame.DataFrame'>\n",
      "Index: 143 entries, ALLEN PHILLIP K to YEAP SOON\n",
      "Data columns (total 26 columns):\n",
      "salary                       143 non-null float64\n",
      "to_messages                  143 non-null float64\n",
      "deferral_payments            143 non-null float64\n",
      "total_payments               143 non-null float64\n",
      "exercised_stock_options      143 non-null float64\n",
      "bonus                        143 non-null float64\n",
      "restricted_stock             143 non-null float64\n",
      "shared_receipt_with_poi      143 non-null float64\n",
      "restricted_stock_deferred    143 non-null float64\n",
      "total_stock_value            143 non-null float64\n",
      "expenses                     143 non-null float64\n",
      "loan_advances                143 non-null float64\n",
      "from_messages                143 non-null float64\n",
      "other                        143 non-null float64\n",
      "from_this_person_to_poi      143 non-null float64\n",
      "poi                          143 non-null bool\n",
      "director_fees                143 non-null float64\n",
      "deferred_income              143 non-null float64\n",
      "long_term_incentive          143 non-null float64\n",
      "from_poi_to_this_person      143 non-null float64\n",
      "fraction_bonus_salary        143 non-null float64\n",
      "fraction_bonus_total         143 non-null float64\n",
      "fraction_salary_total        143 non-null float64\n",
      "fraction_stock_total         143 non-null float64\n",
      "fraction_to_poi              143 non-null float64\n",
      "fraction_from_poi            143 non-null float64\n",
      "dtypes: bool(1), float64(25)\n",
      "memory usage: 29.2+ KB\n"
     ]
    }
   ],
   "source": [
    "dataset_df.info()"
   ]
  },
  {
   "cell_type": "code",
   "execution_count": 30,
   "metadata": {
    "collapsed": false
   },
   "outputs": [],
   "source": [
    "### Store to my_dataset for easy export below.\n",
    "my_dataset=dataset_df.to_dict('index')\n",
    "### Extract original features and labels from dataset\n",
    "data=featureFormat(my_dataset,features_list,sort_keys=True)\n",
    "labels,features=targetFeatureSplit(data)\n",
    "### Extract extended features and labels from dataset\n",
    "data=featureFormat(my_dataset,extended_features_list,sort_keys=True)\n",
    "labels2,features2=targetFeatureSplit(data)"
   ]
  },
  {
   "cell_type": "markdown",
   "metadata": {
    "collapsed": true
   },
   "source": [
    "Feature selection\n",
    "\n",
    "Now i have the orginal features and my new created features i need to decide which feattures are best to use.\n",
    "To do this i will use SKlearn's Kbeast function.\n",
    "\n",
    "Doing this will choose the features that should decrease overfitting and improve the accuracy of the alogrythem.\n",
    "\n",
    "Feature selection is the process by which the machine learning algorithm automatically selects those features\n",
    "select those features that have the strongest relationship with the target variable. Feature selection can be used\n",
    "either to improve accuracy scores or to increase performance on high-dimensional data.\n",
    "\n",
    " useing SelectKBest to select features according to the k highest scores, according to the f_classif scoring\n",
    "function which computes the ANOVA F-value for the data. \n",
    "In this instance we use k=12\n"
   ]
  },
  {
   "cell_type": "code",
   "execution_count": 32,
   "metadata": {
    "collapsed": true
   },
   "outputs": [],
   "source": [
    "# Select K-Best features\n",
    "n=12\n",
    "\n",
    "k_best1=SelectKBest(score_func=f_classif,k=n)\n",
    "k_best1.fit(features,labels)\n",
    "feature_scores1=zip(features_list[1:],k_best1.scores_)\n",
    "k_best_features1=OrderedDict(sorted(feature_scores1,key=lambda x: x[1],reverse=True))\n",
    "\n",
    "k_best2=SelectKBest(score_func=f_classif,k=n)\n",
    "k_best2.fit(features2,labels2)\n",
    "feature_scores2=zip(extended_features_list[1:],k_best2.scores_)\n",
    "k_best_features2=OrderedDict(sorted(feature_scores2,key=lambda x: x[1],reverse=True))"
   ]
  },
  {
   "cell_type": "code",
   "execution_count": 33,
   "metadata": {
    "collapsed": false
   },
   "outputs": [
    {
     "data": {
      "image/png": "[encoded data removed]",
      "text/plain": [
       "<matplotlib.figure.Figure at 0x10942ac8>"
      ]
     },
     "metadata": {},
     "output_type": "display_data"
    }
   ],
   "source": [
    "#Plot KBest feature scores\n",
    "plt.figure(figsize=(12,4))\n",
    "plt.suptitle('K-Best Feature Scores',fontsize=14)\n",
    "# Left plot\n",
    "plt.subplot(1,2,1)\n",
    "plt.bar(range(len(k_best_features1)),k_best_features1.values(),\n",
    " align='center',color=['blue']*n+['grey']*(len(k_best_features1)-n))\n",
    "plt.xticks(range(len(k_best_features1)),k_best_features1.keys(),rotation='vertical')\n",
    "plt.title('Original Features')\n",
    "plt.ylabel('Score')\n",
    "plt.ylim(0,25)\n",
    "# Right plot\n",
    "plt.subplot(1,2,2)\n",
    "plt.bar(range(len(k_best_features2)),k_best_features2.values(),\n",
    " align='center',color=['blue']*n+['grey']*(len(k_best_features2)-n))\n",
    "plt.xticks(range(len(k_best_features2)),k_best_features2.keys(),rotation='vertical')\n",
    "plt.title('Extended Features')\n",
    "plt.ylabel('Score')\n",
    "plt.ylim(0,25)\n",
    "plt.show()"
   ]
  },
  {
   "cell_type": "markdown",
   "metadata": {
    "collapsed": true
   },
   "source": [
    "Feature scaleing\n",
    "\n",
    "Feature scaling is used when the data would be scewed (less normaly distrobuted) when investigating. An example using salery which is in millions to emails sent which will be in hundreds. Scaling will allow the classifiers to run better and produce a more accurate asnwer.\n",
    "\n",
    "The scaling was done using SKlearn's standardscale function.\n"
   ]
  },
  {
   "cell_type": "code",
   "execution_count": 35,
   "metadata": {
    "collapsed": true
   },
   "outputs": [],
   "source": [
    "# Fit Decision Tree to unscaled features and get feature importances\n",
    "clf1=DecisionTreeClassifier()\n",
    "clf1=clf1.fit(features2,labels2)\n",
    "feature_importances1=zip(extended_features_list[1:],clf1.feature_importances_)\n",
    "important_features1=OrderedDict(sorted(feature_importances1,key=lambda x: x[1],reverse=True))\n",
    "\n",
    "# Scale features\n",
    "scaler=StandardScaler(copy=True)\n",
    "scaled_features=scaler.fit_transform(features2)\n",
    "\n",
    "# Fit Decision Tree to scaled features and get feature importances\n",
    "clf2=DecisionTreeClassifier()\n",
    "clf2=clf2.fit(scaled_features,labels2)\n",
    "feature_importances2=zip(extended_features_list[1:],clf2.feature_importances_)\n",
    "important_features2=OrderedDict(sorted(feature_importances2,key=lambda x: x[1],reverse=True))"
   ]
  },
  {
   "cell_type": "code",
   "execution_count": 36,
   "metadata": {
    "collapsed": false
   },
   "outputs": [
    {
     "data": {
      "image/png": "[encoded data removed]",
      "text/plain": [
       "<matplotlib.figure.Figure at 0xcb2d198>"
      ]
     },
     "metadata": {},
     "output_type": "display_data"
    }
   ],
   "source": [
    "#Plot Decision Tree feature importances\n",
    "plt.figure(figsize=(12,4))\n",
    "plt.suptitle('Decision Tree Feature Importances',fontsize=14)\n",
    "# Left plot\n",
    "plt.subplot(1,2,1)\n",
    "plt.bar(range(len(important_features1)),important_features1.values(),align='center',color=['blue'])\n",
    "plt.xticks(range(len(important_features1)),important_features1.keys(),rotation='vertical')\n",
    "plt.title('Unscaled Features')\n",
    "plt.ylabel('Importance')\n",
    "plt.ylim(0,0.25)\n",
    "# Right plot\n",
    "plt.subplot(1,2,2)\n",
    "plt.bar(range(len(important_features2)),important_features2.values(),align='center',color=['blue'])\n",
    "plt.xticks(range(len(important_features2)),important_features2.keys(),rotation='vertical')\n",
    "plt.title('Scaled Features')\n",
    "plt.ylabel('Importance')\n",
    "plt.ylim(0,0.25)\n",
    "plt.show()"
   ]
  },
  {
   "cell_type": "markdown",
   "metadata": {
    "collapsed": true
   },
   "source": [
    "Classifiers\n",
    "\n",
    "I will run a number of CLassifers to deturmin which scores higest ready for tuning later in project.\n",
    "\n",
    "Scoreing to choose best classifer at this step will be based on F1 score. F1 score is defnied as\n",
    "\n",
    "\"The F1 score is the harmonic mean of the precision and recall, where an F1 score reaches its best value at 1 (perfect precision and recall).\"\n",
    "\n",
    "Definition from https://en.wikipedia.org/wiki/F1_score\n",
    "\n",
    "Accuracy is the ratio of individuals correctly classified as a POI to the total number of individuals.\n",
    "Precision is the ratio of individuals correctly classified as a POI to the total number of individuals classified as a\n",
    "POI.\n",
    "Recall is the ratio of individuals correctly classified as a POI to the total number of individuals that were actually\n",
    "a POI.\n",
    "\n",
    "\n",
    "\n",
    "\n",
    "\n"
   ]
  },
  {
   "cell_type": "code",
   "execution_count": 38,
   "metadata": {
    "collapsed": true
   },
   "outputs": [],
   "source": [
    "def classify(clf):\n",
    "    test_classifier(clf,my_dataset,extended_features_list)"
   ]
  },
  {
   "cell_type": "code",
   "execution_count": 39,
   "metadata": {
    "collapsed": false
   },
   "outputs": [
    {
     "name": "stdout",
     "output_type": "stream",
     "text": [
      "GaussianNB(priors=None)\n",
      "\tAccuracy: 0.82487\tPrecision: 0.30755\tRecall: 0.25050\tF1: 0.27611\tF2: 0.26015\n",
      "\tTotal predictions: 15000\tTrue positives:  501\tFalse positives: 1128\tFalse negatives: 1499\tTrue negatives: 11872\n",
      "\n"
     ]
    }
   ],
   "source": [
    "#GaussianNB\n",
    "from sklearn.naive_bayes import GaussianNB\n",
    "clf = GaussianNB()\n",
    "test_classifier(clf,my_dataset,extended_features_list)\n"
   ]
  },
  {
   "cell_type": "code",
   "execution_count": 40,
   "metadata": {
    "collapsed": false
   },
   "outputs": [
    {
     "name": "stdout",
     "output_type": "stream",
     "text": [
      "Pipeline(steps=[('kbest', SelectKBest(k=10, score_func=<function f_classif at 0x0000000009EF3F98>)), ('clf', RandomForestClassifier(bootstrap=True, class_weight=None, criterion='gini',\n",
      "            max_depth=None, max_features='auto', max_leaf_nodes=None,\n",
      "            min_impurity_split=1e-07, min_samples_leaf=1,\n",
      "            min_samples_split=2, min_weight_fraction_leaf=0.0,\n",
      "            n_estimators=10, n_jobs=1, oob_score=False, random_state=None,\n",
      "            verbose=0, warm_start=False))])\n",
      "\tAccuracy: 0.85587\tPrecision: 0.39925\tRecall: 0.16050\tF1: 0.22896\tF2: 0.18230\n",
      "\tTotal predictions: 15000\tTrue positives:  321\tFalse positives:  483\tFalse negatives: 1679\tTrue negatives: 12517\n",
      "\n"
     ]
    }
   ],
   "source": [
    "#Random Forest Classifier (Unscaled)\n",
    "pipeline=Pipeline([('kbest',SelectKBest()),\n",
    "                   ('clf',RandomForestClassifier())])\n",
    "clf=pipeline.fit(features2,labels2)\n",
    "classify(clf)"
   ]
  },
  {
   "cell_type": "code",
   "execution_count": 41,
   "metadata": {
    "collapsed": false
   },
   "outputs": [
    {
     "name": "stdout",
     "output_type": "stream",
     "text": [
      "Pipeline(steps=[('kbest', SelectKBest(k=10, score_func=<function f_classif at 0x0000000009EF3F98>)), ('clf', KNeighborsClassifier(algorithm='auto', leaf_size=30, metric='minkowski',\n",
      "           metric_params=None, n_jobs=1, n_neighbors=5, p=2,\n",
      "           weights='uniform'))])\n",
      "\tAccuracy: 0.88327\tPrecision: 0.66985\tRecall: 0.24550\tF1: 0.35931\tF2: 0.28112\n",
      "\tTotal predictions: 15000\tTrue positives:  491\tFalse positives:  242\tFalse negatives: 1509\tTrue negatives: 12758\n",
      "\n"
     ]
    }
   ],
   "source": [
    "#K Neighbors Classifier (Unscaled)\n",
    "pipeline=Pipeline([('kbest',SelectKBest()),\n",
    "                 ('clf',KNeighborsClassifier())])\n",
    "clf=pipeline.fit(features2,labels2)\n",
    "classify(clf)"
   ]
  },
  {
   "cell_type": "code",
   "execution_count": 42,
   "metadata": {
    "collapsed": false
   },
   "outputs": [
    {
     "name": "stdout",
     "output_type": "stream",
     "text": [
      "Pipeline(steps=[('scaler', StandardScaler(copy=True, with_mean=True, with_std=True)), ('kbest', SelectKBest(k=10, score_func=<function f_classif at 0x0000000009EF3F98>)), ('clf', KNeighborsClassifier(algorithm='auto', leaf_size=30, metric='minkowski',\n",
      "           metric_params=None, n_jobs=1, n_neighbors=5, p=2,\n",
      "           weights='uniform'))])\n",
      "\tAccuracy: 0.84927\tPrecision: 0.24952\tRecall: 0.06500\tF1: 0.10313\tF2: 0.07628\n",
      "\tTotal predictions: 15000\tTrue positives:  130\tFalse positives:  391\tFalse negatives: 1870\tTrue negatives: 12609\n",
      "\n"
     ]
    }
   ],
   "source": [
    "#K Neighbors Classifier (Scaled)\n",
    "pipeline=Pipeline([('scaler',StandardScaler()),\n",
    "                 ('kbest',SelectKBest()),\n",
    "                 ('clf',KNeighborsClassifier())])\n",
    "clf=pipeline.fit(features2,labels2)\n",
    "classify(clf)"
   ]
  },
  {
   "cell_type": "code",
   "execution_count": 43,
   "metadata": {
    "collapsed": false
   },
   "outputs": [
    {
     "name": "stdout",
     "output_type": "stream",
     "text": [
      "Pipeline(steps=[('scaler', StandardScaler(copy=True, with_mean=True, with_std=True)), ('kbest', SelectKBest(k=10, score_func=<function f_classif at 0x0000000009EF3F98>)), ('clf', SVC(C=1.0, cache_size=200, class_weight=None, coef0=0.0,\n",
      "  decision_function_shape=None, degree=3, gamma='auto', kernel='linear',\n",
      "  max_iter=-1, probability=False, random_state=None, shrinking=True,\n",
      "  tol=0.001, verbose=False))])\n",
      "\tAccuracy: 0.86440\tPrecision: 0.47416\tRecall: 0.15600\tF1: 0.23476\tF2: 0.18018\n",
      "\tTotal predictions: 15000\tTrue positives:  312\tFalse positives:  346\tFalse negatives: 1688\tTrue negatives: 12654\n",
      "\n"
     ]
    }
   ],
   "source": [
    "#Support Vector Classifier (Scaled)\n",
    "pipeline=Pipeline([('scaler',StandardScaler()),\n",
    "                 ('kbest',SelectKBest()),\n",
    "                 ('clf',SVC(kernel=\"linear\"))])\n",
    "clf=pipeline.fit(features2,labels2)\n",
    "classify(clf)"
   ]
  },
  {
   "cell_type": "code",
   "execution_count": 44,
   "metadata": {
    "collapsed": false
   },
   "outputs": [
    {
     "name": "stdout",
     "output_type": "stream",
     "text": [
      "Pipeline(steps=[('kbest', SelectKBest(k=10, score_func=<function f_classif at 0x0000000009EF3F98>)), ('clf', AdaBoostClassifier(algorithm='SAMME.R', base_estimator=None,\n",
      "          learning_rate=1.0, n_estimators=50, random_state=None))])\n",
      "\tAccuracy: 0.82500\tPrecision: 0.31163\tRecall: 0.25850\tF1: 0.28259\tF2: 0.26763\n",
      "\tTotal predictions: 15000\tTrue positives:  517\tFalse positives: 1142\tFalse negatives: 1483\tTrue negatives: 11858\n",
      "\n"
     ]
    }
   ],
   "source": [
    "#AdaBoost Classifier (Unscaled)\n",
    "pipeline=Pipeline([('kbest',SelectKBest()),\n",
    "                   ('clf',AdaBoostClassifier())])\n",
    "clf=pipeline.fit(features2,labels2)\n",
    "classify(clf)"
   ]
  },
  {
   "cell_type": "markdown",
   "metadata": {
    "collapsed": true
   },
   "source": [
    "Tuning\n",
    "\n",
    "I will tune the parameters of the best performing classifiers using GridSearchCV Cross Validation to try to\n",
    "achieve better than 0.3 for both precision and recall. Since is the harmonic mean of the precision and recall,\n",
    "we will use this metric to guide our tuning.\n",
    "\n",
    "reserch on f1 for teh 0.3 score"
   ]
  },
  {
   "cell_type": "code",
   "execution_count": 47,
   "metadata": {
    "collapsed": false
   },
   "outputs": [
    {
     "name": "stderr",
     "output_type": "stream",
     "text": [
      "C:\\ProgramData\\Anaconda2\\lib\\site-packages\\sklearn\\metrics\\classification.py:1113: UndefinedMetricWarning: F-score is ill-defined and being set to 0.0 due to no predicted samples.\n",
      "  'precision', 'predicted', average, warn_for)\n"
     ]
    },
    {
     "name": "stdout",
     "output_type": "stream",
     "text": [
      "Pipeline(steps=[('scaler', StandardScaler(copy=True, with_mean=True, with_std=True)), ('kbest', SelectKBest(k=12, score_func=<function f_classif at 0x0000000009EF3F98>)), ('clf', DecisionTreeClassifier(class_weight='balanced', criterion='gini',\n",
      "            max_depth=None, max_features=None, max_leaf_nodes=None,\n",
      "            min_impurity_split=1e-07, min_samples_leaf=1,\n",
      "            min_samples_split=10, min_weight_fraction_leaf=0.0,\n",
      "            presort=False, random_state=None, splitter='best'))])\n",
      "\tAccuracy: 0.80140\tPrecision: 0.33721\tRecall: 0.50700\tF1: 0.40503\tF2: 0.46062\n",
      "\tTotal predictions: 15000\tTrue positives: 1014\tFalse positives: 1993\tFalse negatives:  986\tTrue negatives: 11007\n",
      "\n"
     ]
    }
   ],
   "source": [
    "#DecisionTree Classifier\n",
    "pipeline=Pipeline([('scaler',StandardScaler()),\n",
    "                   ('kbest',SelectKBest()),\n",
    "                   ('clf',DecisionTreeClassifier())])\n",
    "param_grid=([{'kbest__k':[6,12,18],\n",
    "              'clf__max_depth':[None,1,2],\n",
    "              'clf__min_samples_split':[10,20,30],\n",
    "              'clf__class_weight':[None,'balanced']}])\n",
    "clf=GridSearchCV(pipeline,param_grid,scoring='f1').fit(features2,labels2).best_estimator_\n",
    "#perf_labels,perf_metrics=classify(clf)\n",
    "classify(clf)"
   ]
  },
  {
   "cell_type": "code",
   "execution_count": 48,
   "metadata": {
    "collapsed": false
   },
   "outputs": [
    {
     "name": "stdout",
     "output_type": "stream",
     "text": [
      "Pipeline(steps=[('kbest', SelectKBest(k=12, score_func=<function f_classif at 0x0000000009EF3F98>)), ('clf', AdaBoostClassifier(algorithm='SAMME',\n",
      "          base_estimator=DecisionTreeClassifier(class_weight='balanced', criterion='gini', max_depth=2,\n",
      "            max_features=None, max_leaf_nodes=None,\n",
      "      ...om_state=None, splitter='best'),\n",
      "          learning_rate=0.01, n_estimators=50, random_state=None))])\n",
      "\tAccuracy: 0.80360\tPrecision: 0.36006\tRecall: 0.60850\tF1: 0.45242\tF2: 0.53471\n",
      "\tTotal predictions: 15000\tTrue positives: 1217\tFalse positives: 2163\tFalse negatives:  783\tTrue negatives: 10837\n",
      "\n"
     ]
    }
   ],
   "source": [
    "#AdaBoost Classifier\n",
    "pipeline=Pipeline([('kbest',SelectKBest()),\n",
    "                   ('clf',AdaBoostClassifier())])\n",
    "param_grid=([{'kbest__k':[6,12,18],\n",
    "              'clf__base_estimator':[DecisionTreeClassifier(class_weight='balanced',max_depth=1),\n",
    "                                     DecisionTreeClassifier(class_weight='balanced',max_depth=2)],\n",
    "              'clf__n_estimators':[25,50,75],\n",
    "              'clf__learning_rate':[0.01,0.1,1.0],\n",
    "              'clf__algorithm':['SAMME']}])\n",
    "clf=GridSearchCV(pipeline,param_grid,scoring='f1').fit(features2,labels2).best_estimator_\n",
    "#perf_labels,perf_metrics=classify(clf)\n",
    "classify(clf)"
   ]
  },
  {
   "cell_type": "code",
   "execution_count": 49,
   "metadata": {
    "collapsed": false
   },
   "outputs": [],
   "source": [
    "#Store this classifier\n",
    "CLF=clf\n",
    "final_kbest=CLF.named_steps['kbest']\n",
    "final_clf=CLF.named_steps['clf']\n",
    "#final_perf_labels=perf_labels\n",
    "#final_perf_metrics=perf_metrics"
   ]
  },
  {
   "cell_type": "code",
   "execution_count": 50,
   "metadata": {
    "collapsed": false
   },
   "outputs": [
    {
     "data": {
      "text/plain": [
       "AdaBoostClassifier(algorithm='SAMME',\n",
       "          base_estimator=DecisionTreeClassifier(class_weight='balanced', criterion='gini', max_depth=2,\n",
       "            max_features=None, max_leaf_nodes=None,\n",
       "            min_impurity_split=1e-07, min_samples_leaf=1,\n",
       "            min_samples_split=2, min_weight_fraction_leaf=0.0,\n",
       "            presort=False, random_state=None, splitter='best'),\n",
       "          learning_rate=0.01, n_estimators=50, random_state=None)"
      ]
     },
     "execution_count": 50,
     "metadata": {},
     "output_type": "execute_result"
    }
   ],
   "source": [
    "CLF.named_steps['clf']"
   ]
  },
  {
   "cell_type": "code",
   "execution_count": 51,
   "metadata": {
    "collapsed": false
   },
   "outputs": [
    {
     "name": "stdout",
     "output_type": "stream",
     "text": [
      "Pipeline(steps=[('kbest', SelectKBest(k=12, score_func=<function f_classif at 0x0000000009EF3F98>)), ('clf', KNeighborsClassifier(algorithm='auto', leaf_size=30, metric='minkowski',\n",
      "           metric_params=None, n_jobs=1, n_neighbors=3, p=2,\n",
      "           weights='uniform'))])\n",
      "\tAccuracy: 0.87427\tPrecision: 0.55327\tRecall: 0.29600\tF1: 0.38567\tF2: 0.32635\n",
      "\tTotal predictions: 15000\tTrue positives:  592\tFalse positives:  478\tFalse negatives: 1408\tTrue negatives: 12522\n",
      "\n"
     ]
    }
   ],
   "source": [
    "#K Neighbors Classifier (Unscaled)\n",
    "pipeline=Pipeline([('kbest',SelectKBest()),\n",
    "                   ('clf',KNeighborsClassifier())])\n",
    "param_grid=([{'kbest__k':[6,12,18],\n",
    "              'clf__n_neighbors':[3,4,5]}])\n",
    "clf=GridSearchCV(pipeline,param_grid,scoring='f1').fit(features2,labels2).best_estimator_\n",
    "#perf_labels,perf_metrics=classify(clf)\n",
    "classify(clf)"
   ]
  },
  {
   "cell_type": "markdown",
   "metadata": {
    "collapsed": true
   },
   "source": [
    "Result"
   ]
  },
  {
   "cell_type": "code",
   "execution_count": 53,
   "metadata": {
    "collapsed": true
   },
   "outputs": [],
   "source": [
    "The best scoreing algorithm was the AdaBoost Classifier using SelectKBest to select features.\n",
    "Paramters printed two cells below.\n"
   ]
  },
  {
   "cell_type": "code",
   "execution_count": 54,
   "metadata": {
    "collapsed": false
   },
   "outputs": [],
   "source": [
    "#Select K-Best\n",
    "n=final_kbest.k\n",
    "k_best=final_kbest\n",
    "k_best.fit(features2,labels2)\n",
    "feature_scores=zip(extended_features_list[1:],k_best.scores_)\n",
    "k_best_features=OrderedDict(sorted(feature_scores,key=lambda x: x[1]))\n",
    "#AdaBoost Classifier\n",
    "clf=final_clf\n",
    "clf=clf.fit(k_best.transform(features2),labels2)\n",
    "feature_importances=zip(extended_features_list[1:],clf.feature_importances_)\n",
    "important_features=OrderedDict(sorted(feature_importances,key=lambda x: x[1]))"
   ]
  },
  {
   "cell_type": "code",
   "execution_count": 55,
   "metadata": {
    "collapsed": false
   },
   "outputs": [
    {
     "name": "stdout",
     "output_type": "stream",
     "text": [
      "Best performing classifier: AdaBoostClassifier\n",
      "\n",
      "AdaBoostClassifier(algorithm='SAMME',\n",
      "          base_estimator=DecisionTreeClassifier(class_weight='balanced', criterion='gini', max_depth=2,\n",
      "            max_features=None, max_leaf_nodes=None,\n",
      "            min_impurity_split=1e-07, min_samples_leaf=1,\n",
      "            min_samples_split=2, min_weight_fraction_leaf=0.0,\n",
      "            presort=False, random_state=None, splitter='best'),\n",
      "          learning_rate=0.01, n_estimators=50, random_state=None)\n",
      "SelectKBest(k=12, score_func=<function f_classif at 0x0000000009EF3F98>)\n"
     ]
    }
   ],
   "source": [
    "#Output Classifier Parameters\n",
    "print 'Best performing classifier: '+str(final_clf)[:str(final_clf).find('(')]+'\\n'\n",
    "for k in CLF.named_steps.values():\n",
    "    print k\n"
   ]
  },
  {
   "cell_type": "code",
   "execution_count": 57,
   "metadata": {
    "collapsed": false
   },
   "outputs": [
    {
     "name": "stdout",
     "output_type": "stream",
     "text": [
      "\n",
      "Feature Scores:\n",
      "\n",
      "Feature:                      Score:         Importance:    \n",
      "salary                        18.2897        0.0707\n",
      "deferral_payments              0.2246        0.0000\n",
      "total_payments                 8.7728        0.0000\n",
      "bonus                         20.7923        0.0040\n",
      "deferred_income               11.4585        0.0666\n",
      "total_stock_value             24.1829        0.0656\n",
      "expenses                       6.0942        0.0000\n",
      "exercised_stock_options       24.8151        0.1037\n",
      "other                          4.1875        0.0949\n",
      "long_term_incentive            9.9222        0.0000\n",
      "restricted_stock               9.2128        0.0000\n",
      "to_messages                    1.6463        0.5944\n",
      "from_poi_to_this_person        5.2434        0.0000\n",
      "from_messages                  0.1697        0.0000\n",
      "from_this_person_to_poi        2.3826        0.0000\n",
      "shared_receipt_with_poi        8.5894        0.0000\n",
      "fraction_bonus_salary         10.7836        0.0000\n",
      "fraction_bonus_total          20.7156        0.0000\n",
      "fraction_salary_total          2.6874        0.0000\n",
      "fraction_stock_total           0.0228        0.0000\n",
      "fraction_to_poi               16.4097        0.0000\n",
      "fraction_from_poi              3.1281        0.0000\n"
     ]
    }
   ],
   "source": [
    "#Output Feature Scores and Feature Importances\n",
    "print '\\nFeature Scores:\\n'\n",
    "print('{:30}{:15}{:15}'.format('Feature:','Score:','Importance:'))\n",
    "for k in extended_features_list[1:]:\n",
    "    print('{:29}{:8.4f}{:14.4f}'.format(k,k_best_features[k],(important_features[k] if (k in important_features) else 0.0)))   "
   ]
  },
  {
   "cell_type": "code",
   "execution_count": 58,
   "metadata": {
    "collapsed": true
   },
   "outputs": [],
   "source": [
    "### Task 6: Dump your classifier, dataset, and features_list so anyone can\n",
    "### check your results. You do not need to change anything below, but make sure\n",
    "### that the version of poi_id.py that you submit can be run on its own and\n",
    "### generates the necessary .pkl files for validating your results.\n",
    "dump_classifier_and_data(CLF,my_dataset,extended_features_list)"
   ]
  },
  {
   "cell_type": "markdown",
   "metadata": {
    "collapsed": true
   },
   "source": [
    "Conclusion\n",
    "\n",
    "The aim of this project was to build a machine learning classifier to identify Enron employeers who may of commited fraud based on the data set provided.\n",
    "\n",
    "Through out this notebook i have:\n",
    "-looked at the data set\n",
    "-cleaned the data set\n",
    "-looked for an delt with any outliers in the data\n",
    "-lookd at the data and created some new features \n",
    "- Run a nuber of diffrent classifers to see their diffrent \"score\"\n",
    "- During the above step the data was scaled if the classifer needed so.\n",
    "- Once i had run multipe clissifers i choose the top 3 to then Tune.\n",
    "- I then tuned the top 3 with gridsearcCV to find the best paramemters to feed into the classifier.\n",
    "- I then looked at the F1 score for the Tuned top 3 to pick a \"winner\".\n",
    "\n",
    "My chosen classifier is adiboost with the follow parameters:\n",
    "\n",
    "AdaBoostClassifier(algorithm='SAMME',\n",
    "          base_estimator=DecisionTreeClassifier(class_weight='balanced', criterion='gini', max_depth=2,\n",
    "            max_features=None, max_leaf_nodes=None,\n",
    "            min_impurity_split=1e-07, min_samples_leaf=1,\n",
    "            min_samples_split=2, min_weight_fraction_leaf=0.0,\n",
    "            presort=False, random_state=None, splitter='best'),\n",
    "          learning_rate=0.01, n_estimators=50, random_state=None)\n",
    "SelectKBest(k=12, score_func=<function f_classif at 0x0000000009EF3F98>)\n",
    "\n",
    "The final scores for my classifer is:\n",
    "\n",
    "Accuracy: 0.80360\tPrecision: 0.36006\tRecall: 0.60850\tF1: 0.45242\tF2: 0.53471\n",
    "\n",
    "Which means that:\n",
    "\n",
    "80.36% of all the individuals were correctly classified as a person of interest.\n",
    "Of all the individuals classified as a person of interest, 36% of these classifications were correct.\n",
    "Of all the actual persons of interest, 60.90% of these were correctly classified.\n",
    "\n",
    "\n",
    "\n"
   ]
  },
  {
   "cell_type": "code",
   "execution_count": null,
   "metadata": {
    "collapsed": true
   },
   "outputs": [],
   "source": []
  }
 ],
 "metadata": {
  "kernelspec": {
   "display_name": "Python 2",
   "language": "python",
   "name": "python2"
  },
  "language_info": {
   "codemirror_mode": {
    "name": "ipython",
    "version": 2
   },
   "file_extension": ".py",
   "mimetype": "text/x-python",
   "name": "python",
   "nbconvert_exporter": "python",
   "pygments_lexer": "ipython2",
   "version": "2.7.13"
  }
 },
 "nbformat": 4,
 "nbformat_minor": 2
}
